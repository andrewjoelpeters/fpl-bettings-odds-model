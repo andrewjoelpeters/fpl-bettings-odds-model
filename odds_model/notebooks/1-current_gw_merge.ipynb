{
 "cells": [
  {
   "cell_type": "code",
   "execution_count": 24,
   "metadata": {},
   "outputs": [],
   "source": [
    "import os\n",
    "from datetime import date\n",
    "from datetime import datetime\n",
    "import dateutil.parser\n",
    "import pandas as pd\n",
    "import numpy as np\n",
    "from unidecode import unidecode\n",
    "from collections import Counter\n",
    "from random import choices\n",
    "\n",
    "import sys\n",
    "sys.path.append('/Users/andrew.peters/documents/fpl/')\n",
    "from odds_model.utils import betting_odds_scraper as sc\n",
    "from odds_model.utils import name_conversions as nc"
   ]
  },
  {
   "cell_type": "code",
   "execution_count": 25,
   "metadata": {},
   "outputs": [],
   "source": [
    "# set last day of gameweek, in YYYY, MM, DD form\n",
    "# will filter for data up to or equal to date\n",
    "last_date_of_gw = datetime(2023, 2, 8)"
   ]
  },
  {
   "cell_type": "code",
   "execution_count": 26,
   "metadata": {},
   "outputs": [
    {
     "name": "stdout",
     "output_type": "stream",
     "text": [
      "Retrieveed 10 total matches.\n"
     ]
    },
    {
     "name": "stderr",
     "output_type": "stream",
     "text": [
      "[WDM] - Downloading: 100%|██████████| 8.72M/8.72M [00:00<00:00, 25.7MB/s]\n"
     ]
    },
    {
     "name": "stdout",
     "output_type": "stream",
     "text": [
      "Scraping attempt 1\n",
      "Match 0 of 10:\n",
      "['Chelsea', 'Fulham']: Fri 3 Feb\n",
      "** collecting score data\n",
      "** done\n",
      "** collecting Anytime Assist data\n",
      "** done\n",
      "** collecting Anytime Goalscorer data\n",
      "** done\n",
      "Match 1 of 10:\n",
      "['Everton', 'Arsenal']: Sat 4 Feb\n",
      "** collecting score data\n",
      "** done\n",
      "** collecting Anytime Assist data\n",
      "** done\n",
      "** collecting Anytime Goalscorer data\n",
      "** done\n",
      "Match 2 of 10:\n",
      "['Aston Villa', 'Leicester']: Sat 4 Feb\n",
      "** collecting score data\n",
      "** done\n",
      "** collecting Anytime Assist data\n",
      "** done\n",
      "** collecting Anytime Goalscorer data\n",
      "** done\n",
      "Match 3 of 10:\n",
      "['Brentford', 'Southampton']: Sat 4 Feb\n",
      "** collecting score data\n",
      "** done\n",
      "** collecting Anytime Assist data\n",
      "** done\n",
      "** collecting Anytime Goalscorer data\n",
      "** done\n",
      "Match 4 of 10:\n",
      "['Brighton', 'Bournemouth']: Sat 4 Feb\n",
      "** collecting score data\n",
      "** done\n",
      "** collecting Anytime Assist data\n",
      "** done\n",
      "** collecting Anytime Goalscorer data\n",
      "** done\n",
      "Match 5 of 10:\n",
      "['Man Utd', 'Crystal Palace']: Sat 4 Feb\n",
      "** collecting score data\n",
      "** done\n",
      "** collecting Anytime Assist data\n",
      "** done\n",
      "** collecting Anytime Goalscorer data\n",
      "** done\n",
      "Match 6 of 10:\n",
      "['Wolves', 'Liverpool']: Sat 4 Feb\n",
      "** collecting score data\n",
      "** done\n",
      "** collecting Anytime Assist data\n",
      "** done\n",
      "** collecting Anytime Goalscorer data\n",
      "** done\n",
      "Match 7 of 10:\n",
      "['Newcastle', 'West Ham']: Sat 4 Feb\n",
      "** collecting score data\n",
      "** done\n",
      "** collecting Anytime Assist data\n",
      "** done\n",
      "** collecting Anytime Goalscorer data\n",
      "** done\n",
      "Match 8 of 10:\n",
      "['Nottm Forest', 'Leeds']: Sun 5 Feb\n",
      "** collecting score data\n",
      "** done\n",
      "** collecting Anytime Assist data\n",
      "** done\n",
      "** collecting Anytime Goalscorer data\n",
      "** done\n",
      "Match 9 of 10:\n",
      "['Tottenham', 'Man City']: Sun 5 Feb\n",
      "** collecting score data\n",
      "** done\n",
      "** collecting Anytime Assist data\n",
      "** done\n",
      "** collecting Anytime Goalscorer data\n",
      "** done\n",
      "10 matches have already been scraped.0 matches remaining.\n",
      "**Success: All Matches Have Been Scraped**\n"
     ]
    }
   ],
   "source": [
    "sc.orchestrator(last_date_of_gw)"
   ]
  },
  {
   "cell_type": "code",
   "execution_count": 27,
   "metadata": {},
   "outputs": [],
   "source": [
    "sc.final_odds_df_builder()"
   ]
  },
  {
   "cell_type": "code",
   "execution_count": 28,
   "metadata": {},
   "outputs": [],
   "source": [
    "fpl_data = pd.read_pickle('../data/current_fpl_costs.pkl')\n",
    "ga_odds = pd.read_pickle('../data/goals_assists_odds.pkl')"
   ]
  },
  {
   "cell_type": "code",
   "execution_count": 29,
   "metadata": {},
   "outputs": [],
   "source": [
    "# remove accents on player names for more consisten merges\n",
    "fpl_data['name'] = fpl_data.name.apply(lambda x: unidecode(x))\n",
    "ga_odds['player'] = ga_odds.player.apply(lambda x: unidecode(x))\n",
    "\n",
    "# replace names with names from the conversion dictioary so they can merge\n",
    "ga_odds['player'] = ga_odds.player.replace(nc.name_conversion_dict)\n",
    "ga_odds = ga_odds.rename(columns={'player': 'name'})"
   ]
  },
  {
   "cell_type": "code",
   "execution_count": 30,
   "metadata": {},
   "outputs": [
    {
     "data": {
      "text/plain": [
       "['Cafu',\n",
       " 'Gustavo Scarpa',\n",
       " 'Lewis OBrien',\n",
       " 'Alex Moreno',\n",
       " 'Matheus Cunha',\n",
       " 'Marquinhos',\n",
       " 'Wouter Weghorst',\n",
       " 'Carlos Vinicius']"
      ]
     },
     "execution_count": 30,
     "metadata": {},
     "output_type": "execute_result"
    }
   ],
   "source": [
    "# look for mismatches in player names: players that exist in the odds data, but don't have a matching name in the fpl data\n",
    "name_mismatches = [p for p in ga_odds.name.unique() if not p in(fpl_data.name.unique())]\n",
    "name_mismatches"
   ]
  },
  {
   "cell_type": "code",
   "execution_count": 31,
   "metadata": {},
   "outputs": [],
   "source": [
    "last_name_mismatches = [x.split(' ')[-1] for x in name_mismatches]"
   ]
  },
  {
   "cell_type": "code",
   "execution_count": 32,
   "metadata": {},
   "outputs": [
    {
     "name": "stdout",
     "output_type": "stream",
     "text": [
      "Possible Matches for Cafu\n"
     ]
    },
    {
     "data": {
      "text/html": [
       "<div>\n",
       "<style scoped>\n",
       "    .dataframe tbody tr th:only-of-type {\n",
       "        vertical-align: middle;\n",
       "    }\n",
       "\n",
       "    .dataframe tbody tr th {\n",
       "        vertical-align: top;\n",
       "    }\n",
       "\n",
       "    .dataframe thead th {\n",
       "        text-align: right;\n",
       "    }\n",
       "</style>\n",
       "<table border=\"1\" class=\"dataframe\">\n",
       "  <thead>\n",
       "    <tr style=\"text-align: right;\">\n",
       "      <th></th>\n",
       "      <th>name</th>\n",
       "      <th>web_name</th>\n",
       "      <th>team</th>\n",
       "      <th>pos</th>\n",
       "      <th>now_cost</th>\n",
       "      <th>minutes</th>\n",
       "    </tr>\n",
       "  </thead>\n",
       "  <tbody>\n",
       "  </tbody>\n",
       "</table>\n",
       "</div>"
      ],
      "text/plain": [
       "Empty DataFrame\n",
       "Columns: [name, web_name, team, pos, now_cost, minutes]\n",
       "Index: []"
      ]
     },
     "metadata": {},
     "output_type": "display_data"
    },
    {
     "name": "stdout",
     "output_type": "stream",
     "text": [
      "Possible Matches for Gustavo Scarpa\n",
      "'Gustavo Scarpa': 'Gustavo Henrique Furtado Scarpa',\n"
     ]
    },
    {
     "data": {
      "text/html": [
       "<div>\n",
       "<style scoped>\n",
       "    .dataframe tbody tr th:only-of-type {\n",
       "        vertical-align: middle;\n",
       "    }\n",
       "\n",
       "    .dataframe tbody tr th {\n",
       "        vertical-align: top;\n",
       "    }\n",
       "\n",
       "    .dataframe thead th {\n",
       "        text-align: right;\n",
       "    }\n",
       "</style>\n",
       "<table border=\"1\" class=\"dataframe\">\n",
       "  <thead>\n",
       "    <tr style=\"text-align: right;\">\n",
       "      <th></th>\n",
       "      <th>name</th>\n",
       "      <th>web_name</th>\n",
       "      <th>team</th>\n",
       "      <th>pos</th>\n",
       "      <th>now_cost</th>\n",
       "      <th>minutes</th>\n",
       "    </tr>\n",
       "  </thead>\n",
       "  <tbody>\n",
       "    <tr>\n",
       "      <th>590</th>\n",
       "      <td>Gustavo Henrique Furtado Scarpa</td>\n",
       "      <td>Scarpa</td>\n",
       "      <td>Nottm Forest</td>\n",
       "      <td>3</td>\n",
       "      <td>50</td>\n",
       "      <td>103</td>\n",
       "    </tr>\n",
       "  </tbody>\n",
       "</table>\n",
       "</div>"
      ],
      "text/plain": [
       "                                name web_name          team  pos  now_cost  \\\n",
       "590  Gustavo Henrique Furtado Scarpa   Scarpa  Nottm Forest    3        50   \n",
       "\n",
       "     minutes  \n",
       "590      103  "
      ]
     },
     "metadata": {},
     "output_type": "display_data"
    },
    {
     "name": "stdout",
     "output_type": "stream",
     "text": [
      "Possible Matches for Lewis OBrien\n"
     ]
    },
    {
     "data": {
      "text/html": [
       "<div>\n",
       "<style scoped>\n",
       "    .dataframe tbody tr th:only-of-type {\n",
       "        vertical-align: middle;\n",
       "    }\n",
       "\n",
       "    .dataframe tbody tr th {\n",
       "        vertical-align: top;\n",
       "    }\n",
       "\n",
       "    .dataframe thead th {\n",
       "        text-align: right;\n",
       "    }\n",
       "</style>\n",
       "<table border=\"1\" class=\"dataframe\">\n",
       "  <thead>\n",
       "    <tr style=\"text-align: right;\">\n",
       "      <th></th>\n",
       "      <th>name</th>\n",
       "      <th>web_name</th>\n",
       "      <th>team</th>\n",
       "      <th>pos</th>\n",
       "      <th>now_cost</th>\n",
       "      <th>minutes</th>\n",
       "    </tr>\n",
       "  </thead>\n",
       "  <tbody>\n",
       "  </tbody>\n",
       "</table>\n",
       "</div>"
      ],
      "text/plain": [
       "Empty DataFrame\n",
       "Columns: [name, web_name, team, pos, now_cost, minutes]\n",
       "Index: []"
      ]
     },
     "metadata": {},
     "output_type": "display_data"
    },
    {
     "name": "stdout",
     "output_type": "stream",
     "text": [
      "Possible Matches for Alex Moreno\n",
      "'Alex Moreno': 'Alexandre Moreno Lopera',\n",
      "'Alex Moreno': 'Rodrigo Moreno',\n",
      "'Alex Moreno': 'Stefan Ortega Moreno',\n"
     ]
    },
    {
     "data": {
      "text/html": [
       "<div>\n",
       "<style scoped>\n",
       "    .dataframe tbody tr th:only-of-type {\n",
       "        vertical-align: middle;\n",
       "    }\n",
       "\n",
       "    .dataframe tbody tr th {\n",
       "        vertical-align: top;\n",
       "    }\n",
       "\n",
       "    .dataframe thead th {\n",
       "        text-align: right;\n",
       "    }\n",
       "</style>\n",
       "<table border=\"1\" class=\"dataframe\">\n",
       "  <thead>\n",
       "    <tr style=\"text-align: right;\">\n",
       "      <th></th>\n",
       "      <th>name</th>\n",
       "      <th>web_name</th>\n",
       "      <th>team</th>\n",
       "      <th>pos</th>\n",
       "      <th>now_cost</th>\n",
       "      <th>minutes</th>\n",
       "    </tr>\n",
       "  </thead>\n",
       "  <tbody>\n",
       "    <tr>\n",
       "      <th>67</th>\n",
       "      <td>Alexandre Moreno Lopera</td>\n",
       "      <td>Álex Moreno</td>\n",
       "      <td>Aston Villa</td>\n",
       "      <td>2</td>\n",
       "      <td>45</td>\n",
       "      <td>170</td>\n",
       "    </tr>\n",
       "    <tr>\n",
       "      <th>376</th>\n",
       "      <td>Rodrigo Moreno</td>\n",
       "      <td>Rodrigo</td>\n",
       "      <td>Leeds</td>\n",
       "      <td>3</td>\n",
       "      <td>64</td>\n",
       "      <td>1296</td>\n",
       "    </tr>\n",
       "    <tr>\n",
       "      <th>467</th>\n",
       "      <td>Stefan Ortega Moreno</td>\n",
       "      <td>Ortega</td>\n",
       "      <td>Man City</td>\n",
       "      <td>1</td>\n",
       "      <td>38</td>\n",
       "      <td>0</td>\n",
       "    </tr>\n",
       "  </tbody>\n",
       "</table>\n",
       "</div>"
      ],
      "text/plain": [
       "                        name     web_name         team  pos  now_cost  minutes\n",
       "67   Alexandre Moreno Lopera  Álex Moreno  Aston Villa    2        45      170\n",
       "376           Rodrigo Moreno      Rodrigo        Leeds    3        64     1296\n",
       "467     Stefan Ortega Moreno       Ortega     Man City    1        38        0"
      ]
     },
     "metadata": {},
     "output_type": "display_data"
    },
    {
     "name": "stdout",
     "output_type": "stream",
     "text": [
      "Possible Matches for Matheus Cunha\n",
      "'Matheus Cunha': 'Matheus Santos Carneiro Da Cunha',\n"
     ]
    },
    {
     "data": {
      "text/html": [
       "<div>\n",
       "<style scoped>\n",
       "    .dataframe tbody tr th:only-of-type {\n",
       "        vertical-align: middle;\n",
       "    }\n",
       "\n",
       "    .dataframe tbody tr th {\n",
       "        vertical-align: top;\n",
       "    }\n",
       "\n",
       "    .dataframe thead th {\n",
       "        text-align: right;\n",
       "    }\n",
       "</style>\n",
       "<table border=\"1\" class=\"dataframe\">\n",
       "  <thead>\n",
       "    <tr style=\"text-align: right;\">\n",
       "      <th></th>\n",
       "      <th>name</th>\n",
       "      <th>web_name</th>\n",
       "      <th>team</th>\n",
       "      <th>pos</th>\n",
       "      <th>now_cost</th>\n",
       "      <th>minutes</th>\n",
       "    </tr>\n",
       "  </thead>\n",
       "  <tbody>\n",
       "    <tr>\n",
       "      <th>728</th>\n",
       "      <td>Matheus Santos Carneiro Da Cunha</td>\n",
       "      <td>Cunha</td>\n",
       "      <td>Wolves</td>\n",
       "      <td>4</td>\n",
       "      <td>55</td>\n",
       "      <td>132</td>\n",
       "    </tr>\n",
       "  </tbody>\n",
       "</table>\n",
       "</div>"
      ],
      "text/plain": [
       "                                 name web_name    team  pos  now_cost  minutes\n",
       "728  Matheus Santos Carneiro Da Cunha    Cunha  Wolves    4        55      132"
      ]
     },
     "metadata": {},
     "output_type": "display_data"
    },
    {
     "name": "stdout",
     "output_type": "stream",
     "text": [
      "Possible Matches for Marquinhos\n"
     ]
    },
    {
     "data": {
      "text/html": [
       "<div>\n",
       "<style scoped>\n",
       "    .dataframe tbody tr th:only-of-type {\n",
       "        vertical-align: middle;\n",
       "    }\n",
       "\n",
       "    .dataframe tbody tr th {\n",
       "        vertical-align: top;\n",
       "    }\n",
       "\n",
       "    .dataframe thead th {\n",
       "        text-align: right;\n",
       "    }\n",
       "</style>\n",
       "<table border=\"1\" class=\"dataframe\">\n",
       "  <thead>\n",
       "    <tr style=\"text-align: right;\">\n",
       "      <th></th>\n",
       "      <th>name</th>\n",
       "      <th>web_name</th>\n",
       "      <th>team</th>\n",
       "      <th>pos</th>\n",
       "      <th>now_cost</th>\n",
       "      <th>minutes</th>\n",
       "    </tr>\n",
       "  </thead>\n",
       "  <tbody>\n",
       "  </tbody>\n",
       "</table>\n",
       "</div>"
      ],
      "text/plain": [
       "Empty DataFrame\n",
       "Columns: [name, web_name, team, pos, now_cost, minutes]\n",
       "Index: []"
      ]
     },
     "metadata": {},
     "output_type": "display_data"
    },
    {
     "name": "stdout",
     "output_type": "stream",
     "text": [
      "Possible Matches for Wouter Weghorst\n",
      "'Wouter Weghorst': 'Wout Weghorst',\n"
     ]
    },
    {
     "data": {
      "text/html": [
       "<div>\n",
       "<style scoped>\n",
       "    .dataframe tbody tr th:only-of-type {\n",
       "        vertical-align: middle;\n",
       "    }\n",
       "\n",
       "    .dataframe tbody tr th {\n",
       "        vertical-align: top;\n",
       "    }\n",
       "\n",
       "    .dataframe thead th {\n",
       "        text-align: right;\n",
       "    }\n",
       "</style>\n",
       "<table border=\"1\" class=\"dataframe\">\n",
       "  <thead>\n",
       "    <tr style=\"text-align: right;\">\n",
       "      <th></th>\n",
       "      <th>name</th>\n",
       "      <th>web_name</th>\n",
       "      <th>team</th>\n",
       "      <th>pos</th>\n",
       "      <th>now_cost</th>\n",
       "      <th>minutes</th>\n",
       "    </tr>\n",
       "  </thead>\n",
       "  <tbody>\n",
       "    <tr>\n",
       "      <th>512</th>\n",
       "      <td>Wout Weghorst</td>\n",
       "      <td>Weghorst</td>\n",
       "      <td>Man Utd</td>\n",
       "      <td>4</td>\n",
       "      <td>60</td>\n",
       "      <td>158</td>\n",
       "    </tr>\n",
       "  </tbody>\n",
       "</table>\n",
       "</div>"
      ],
      "text/plain": [
       "              name  web_name     team  pos  now_cost  minutes\n",
       "512  Wout Weghorst  Weghorst  Man Utd    4        60      158"
      ]
     },
     "metadata": {},
     "output_type": "display_data"
    },
    {
     "name": "stdout",
     "output_type": "stream",
     "text": [
      "Possible Matches for Carlos Vinicius\n",
      "'Carlos Vinicius': 'Carlos Vinicius Alves Morais',\n"
     ]
    },
    {
     "data": {
      "text/html": [
       "<div>\n",
       "<style scoped>\n",
       "    .dataframe tbody tr th:only-of-type {\n",
       "        vertical-align: middle;\n",
       "    }\n",
       "\n",
       "    .dataframe tbody tr th {\n",
       "        vertical-align: top;\n",
       "    }\n",
       "\n",
       "    .dataframe thead th {\n",
       "        text-align: right;\n",
       "    }\n",
       "</style>\n",
       "<table border=\"1\" class=\"dataframe\">\n",
       "  <thead>\n",
       "    <tr style=\"text-align: right;\">\n",
       "      <th></th>\n",
       "      <th>name</th>\n",
       "      <th>web_name</th>\n",
       "      <th>team</th>\n",
       "      <th>pos</th>\n",
       "      <th>now_cost</th>\n",
       "      <th>minutes</th>\n",
       "    </tr>\n",
       "  </thead>\n",
       "  <tbody>\n",
       "    <tr>\n",
       "      <th>332</th>\n",
       "      <td>Carlos Vinicius Alves Morais</td>\n",
       "      <td>Vinícius</td>\n",
       "      <td>Fulham</td>\n",
       "      <td>4</td>\n",
       "      <td>54</td>\n",
       "      <td>422</td>\n",
       "    </tr>\n",
       "  </tbody>\n",
       "</table>\n",
       "</div>"
      ],
      "text/plain": [
       "                             name  web_name    team  pos  now_cost  minutes\n",
       "332  Carlos Vinicius Alves Morais  Vinícius  Fulham    4        54      422"
      ]
     },
     "metadata": {},
     "output_type": "display_data"
    }
   ],
   "source": [
    "for idx, player in enumerate(name_mismatches):\n",
    "    print(f'Possible Matches for {player}')\n",
    "    snippet = fpl_data[fpl_data.name.str.contains(last_name_mismatches[idx])].head()\n",
    "    for name in snippet.name.unique():\n",
    "        print(f\"'{player}': '{name}',\")    \n",
    "    display(snippet)"
   ]
  },
  {
   "cell_type": "code",
   "execution_count": 33,
   "metadata": {},
   "outputs": [],
   "source": [
    "df = fpl_data.merge(ga_odds[['name', 'match_date', 'proba_assist', 'proba_goal']], on='name')"
   ]
  },
  {
   "cell_type": "code",
   "execution_count": 34,
   "metadata": {},
   "outputs": [],
   "source": [
    "df[['assist_share', 'goal_share']] = df[['proba_assist', 'proba_goal']] / df.groupby('team')[['proba_assist', 'proba_goal']].transform(sum)"
   ]
  },
  {
   "cell_type": "code",
   "execution_count": 35,
   "metadata": {},
   "outputs": [
    {
     "name": "stdout",
     "output_type": "stream",
     "text": [
      "<class 'pandas.core.frame.DataFrame'>\n",
      "Int64Index: 720 entries, 0 to 55\n",
      "Data columns (total 7 columns):\n",
      " #   Column      Non-Null Count  Dtype         \n",
      "---  ------      --------------  -----         \n",
      " 0   team        720 non-null    object        \n",
      " 1   gf          720 non-null    int64         \n",
      " 2   ga          720 non-null    int64         \n",
      " 3   match_date  720 non-null    datetime64[ns]\n",
      " 4   odds        720 non-null    float64       \n",
      " 5   at_home     720 non-null    int64         \n",
      " 6   proba       720 non-null    float64       \n",
      "dtypes: datetime64[ns](1), float64(2), int64(3), object(1)\n",
      "memory usage: 45.0+ KB\n"
     ]
    }
   ],
   "source": [
    "scorelines = pd.read_pickle('../data/scoreline_probabilities.pkl')\n",
    "scorelines.info()"
   ]
  },
  {
   "cell_type": "code",
   "execution_count": 36,
   "metadata": {},
   "outputs": [
    {
     "name": "stdout",
     "output_type": "stream",
     "text": [
      "[]\n",
      "[]\n",
      "720\n"
     ]
    }
   ],
   "source": [
    "#make sure team names align in both dataframes, since that is what will be used for matching\n",
    "print([t for t in df.team.unique() if not t in(scorelines.team.unique())])\n",
    "print([t for t in scorelines.team.unique() if not t in(df.team.unique())])\n",
    "print(len(scorelines))"
   ]
  },
  {
   "cell_type": "code",
   "execution_count": 37,
   "metadata": {},
   "outputs": [],
   "source": [
    "clean_sheet_proba = scorelines.groupby(['team', 'ga'])['proba'].sum().reset_index()\n",
    "clean_sheet_proba = (clean_sheet_proba[clean_sheet_proba['ga'] == 0]\n",
    "                     .drop(columns='ga')\n",
    "                     .rename(columns={'proba': 'clean_sheet_proba'}))"
   ]
  },
  {
   "cell_type": "code",
   "execution_count": 38,
   "metadata": {},
   "outputs": [],
   "source": [
    "def simulate_results(team, num_simulations = 10000):\n",
    "    possible_scores = list(zip(scorelines[scorelines['team'] == team].gf, scorelines[scorelines['team'] == team].ga))\n",
    "    scoreline_weights = scorelines[scorelines['team'] == team].proba\n",
    "    \n",
    "    names = list(df[df.team == team].name)\n",
    "    assist_weights = list(df[df.team == team].assist_share)\n",
    "    goal_weights = list(df[df.team == team].goal_share)\n",
    "    \n",
    "    sim_goal_list = []\n",
    "    sim_assist_list = []\n",
    "    sim_goals_against_list = []\n",
    "    sim_name_list = names * num_simulations\n",
    "    round_list = []\n",
    "    \n",
    "    for sim in range(num_simulations):\n",
    "        score = choices(possible_scores, scoreline_weights)[0]\n",
    "        \n",
    "        game_goal_list = []\n",
    "        game_assist_list = []\n",
    "        \n",
    "        for goals_for in range(score[0]):\n",
    "            game_goal_list.append(choices(names, goal_weights)[0])\n",
    "            game_assist_list.append(choices(names, assist_weights)[0])\n",
    "        \n",
    "        sim_goal_list.extend([Counter(game_goal_list)[p] for p in names])\n",
    "        sim_assist_list.extend([Counter(game_assist_list)[p] for p in names])\n",
    "        sim_goals_against_list.extend([score[1]] * len(names))\n",
    "        round_list.extend([sim] * len(names))\n",
    "    \n",
    "    # Make DataFrame of Results\n",
    "    results_df = pd.DataFrame(zip(sim_name_list, round_list, sim_goal_list, sim_assist_list, sim_goals_against_list),\n",
    "                              columns=['name', 'round', 'goals', 'assists', 'goals_against'])\n",
    "    return results_df\n",
    "    \n",
    "    "
   ]
  },
  {
   "cell_type": "code",
   "execution_count": 39,
   "metadata": {},
   "outputs": [],
   "source": [
    "all_simulations = pd.DataFrame()\n",
    "for team in scorelines.team.unique():\n",
    "    team_result = simulate_results(team)\n",
    "    all_simulations = pd.concat([all_simulations, team_result])"
   ]
  },
  {
   "cell_type": "code",
   "execution_count": 40,
   "metadata": {},
   "outputs": [],
   "source": [
    "date_path = date.today().strftime('%Y_%m_%d')\n",
    "path = f'../data/historical/{date_path}'\n",
    "\n",
    "# save to historical folder as well\n",
    "all_simulations.to_pickle(f'{path}/all_simulations.pkl')"
   ]
  },
  {
   "cell_type": "code",
   "execution_count": 41,
   "metadata": {},
   "outputs": [],
   "source": [
    "player_averages = (all_simulations.groupby('name')[['assists', 'goals', 'goals_against']]\n",
    "                   .mean()\n",
    "                   .reset_index()\n",
    "                   .sort_values('goals', ascending=False)\n",
    "                   .rename(columns={'goals': 'mean_goals', 'assists': 'mean_assists', \n",
    "                                    'goals_against': 'mean_goals_against'})\n",
    ")"
   ]
  },
  {
   "cell_type": "code",
   "execution_count": 42,
   "metadata": {},
   "outputs": [],
   "source": [
    "df = df.merge(player_averages, on='name')"
   ]
  },
  {
   "cell_type": "code",
   "execution_count": 43,
   "metadata": {},
   "outputs": [
    {
     "data": {
      "text/html": [
       "<div>\n",
       "<style scoped>\n",
       "    .dataframe tbody tr th:only-of-type {\n",
       "        vertical-align: middle;\n",
       "    }\n",
       "\n",
       "    .dataframe tbody tr th {\n",
       "        vertical-align: top;\n",
       "    }\n",
       "\n",
       "    .dataframe thead th {\n",
       "        text-align: right;\n",
       "    }\n",
       "</style>\n",
       "<table border=\"1\" class=\"dataframe\">\n",
       "  <thead>\n",
       "    <tr style=\"text-align: right;\">\n",
       "      <th></th>\n",
       "      <th>name</th>\n",
       "      <th>web_name</th>\n",
       "      <th>team</th>\n",
       "      <th>pos</th>\n",
       "      <th>now_cost</th>\n",
       "      <th>minutes</th>\n",
       "      <th>match_date</th>\n",
       "      <th>proba_assist</th>\n",
       "      <th>proba_goal</th>\n",
       "      <th>assist_share</th>\n",
       "      <th>goal_share</th>\n",
       "      <th>mean_assists</th>\n",
       "      <th>mean_goals</th>\n",
       "      <th>mean_goals_against</th>\n",
       "    </tr>\n",
       "  </thead>\n",
       "  <tbody>\n",
       "    <tr>\n",
       "      <th>0</th>\n",
       "      <td>Granit Xhaka</td>\n",
       "      <td>Xhaka</td>\n",
       "      <td>Arsenal</td>\n",
       "      <td>3</td>\n",
       "      <td>50</td>\n",
       "      <td>1616</td>\n",
       "      <td>2022-01-22</td>\n",
       "      <td>0.200000</td>\n",
       "      <td>0.166667</td>\n",
       "      <td>0.065663</td>\n",
       "      <td>0.057509</td>\n",
       "      <td>0.1211</td>\n",
       "      <td>0.1015</td>\n",
       "      <td>1.293</td>\n",
       "    </tr>\n",
       "    <tr>\n",
       "      <th>1</th>\n",
       "      <td>Mohamed Elneny</td>\n",
       "      <td>Elneny</td>\n",
       "      <td>Arsenal</td>\n",
       "      <td>3</td>\n",
       "      <td>41</td>\n",
       "      <td>111</td>\n",
       "      <td>2022-01-22</td>\n",
       "      <td>0.111111</td>\n",
       "      <td>0.118871</td>\n",
       "      <td>0.036479</td>\n",
       "      <td>0.041017</td>\n",
       "      <td>0.0659</td>\n",
       "      <td>0.0761</td>\n",
       "      <td>1.293</td>\n",
       "    </tr>\n",
       "    <tr>\n",
       "      <th>2</th>\n",
       "      <td>Rob Holding</td>\n",
       "      <td>Holding</td>\n",
       "      <td>Arsenal</td>\n",
       "      <td>2</td>\n",
       "      <td>42</td>\n",
       "      <td>16</td>\n",
       "      <td>2022-01-22</td>\n",
       "      <td>0.058824</td>\n",
       "      <td>0.070796</td>\n",
       "      <td>0.019313</td>\n",
       "      <td>0.024429</td>\n",
       "      <td>0.0341</td>\n",
       "      <td>0.0435</td>\n",
       "      <td>1.293</td>\n",
       "    </tr>\n",
       "    <tr>\n",
       "      <th>3</th>\n",
       "      <td>Thomas Partey</td>\n",
       "      <td>Partey</td>\n",
       "      <td>Arsenal</td>\n",
       "      <td>3</td>\n",
       "      <td>47</td>\n",
       "      <td>1392</td>\n",
       "      <td>2022-01-22</td>\n",
       "      <td>0.162162</td>\n",
       "      <td>0.133333</td>\n",
       "      <td>0.053240</td>\n",
       "      <td>0.046007</td>\n",
       "      <td>0.0935</td>\n",
       "      <td>0.0845</td>\n",
       "      <td>1.293</td>\n",
       "    </tr>\n",
       "    <tr>\n",
       "      <th>4</th>\n",
       "      <td>Martin Odegaard</td>\n",
       "      <td>Ødegaard</td>\n",
       "      <td>Arsenal</td>\n",
       "      <td>3</td>\n",
       "      <td>69</td>\n",
       "      <td>1522</td>\n",
       "      <td>2022-01-22</td>\n",
       "      <td>0.337553</td>\n",
       "      <td>0.294388</td>\n",
       "      <td>0.110823</td>\n",
       "      <td>0.101580</td>\n",
       "      <td>0.1974</td>\n",
       "      <td>0.1867</td>\n",
       "      <td>1.293</td>\n",
       "    </tr>\n",
       "  </tbody>\n",
       "</table>\n",
       "</div>"
      ],
      "text/plain": [
       "              name  web_name     team  pos  now_cost  minutes match_date  \\\n",
       "0     Granit Xhaka     Xhaka  Arsenal    3        50     1616 2022-01-22   \n",
       "1   Mohamed Elneny    Elneny  Arsenal    3        41      111 2022-01-22   \n",
       "2      Rob Holding   Holding  Arsenal    2        42       16 2022-01-22   \n",
       "3    Thomas Partey    Partey  Arsenal    3        47     1392 2022-01-22   \n",
       "4  Martin Odegaard  Ødegaard  Arsenal    3        69     1522 2022-01-22   \n",
       "\n",
       "   proba_assist  proba_goal  assist_share  goal_share  mean_assists  \\\n",
       "0      0.200000    0.166667      0.065663    0.057509        0.1211   \n",
       "1      0.111111    0.118871      0.036479    0.041017        0.0659   \n",
       "2      0.058824    0.070796      0.019313    0.024429        0.0341   \n",
       "3      0.162162    0.133333      0.053240    0.046007        0.0935   \n",
       "4      0.337553    0.294388      0.110823    0.101580        0.1974   \n",
       "\n",
       "   mean_goals  mean_goals_against  \n",
       "0      0.1015               1.293  \n",
       "1      0.0761               1.293  \n",
       "2      0.0435               1.293  \n",
       "3      0.0845               1.293  \n",
       "4      0.1867               1.293  "
      ]
     },
     "execution_count": 43,
     "metadata": {},
     "output_type": "execute_result"
    }
   ],
   "source": [
    "df.head()"
   ]
  },
  {
   "cell_type": "code",
   "execution_count": 44,
   "metadata": {},
   "outputs": [],
   "source": [
    "# Goalkeepers aren't in the dataframe above, since they don't have any goals/assists betting from the bookkeepers. \n",
    "# Add them in.\n",
    "\n",
    "goalkeepers = fpl_data[fpl_data.pos == 1]\n",
    "goalkeepers = goalkeepers.merge(df[['team', 'match_date', 'mean_goals_against']].drop_duplicates(), on='team')\n",
    "df = pd.concat([df, goalkeepers])"
   ]
  },
  {
   "cell_type": "code",
   "execution_count": 45,
   "metadata": {},
   "outputs": [],
   "source": [
    "df = df.merge(clean_sheet_proba, on='team')"
   ]
  },
  {
   "cell_type": "code",
   "execution_count": 46,
   "metadata": {},
   "outputs": [],
   "source": [
    "df.to_pickle('../data/simulated_player_outcomes.pkl')\n",
    "\n",
    "date_path = date.today().strftime('%Y_%m_%d')\n",
    "path = f'../data/historical/{date_path}'\n",
    "\n",
    "# save to historical folder as well\n",
    "df.to_pickle(f'{path}/simulated_player_outcomes.pkl')"
   ]
  },
  {
   "cell_type": "code",
   "execution_count": null,
   "metadata": {},
   "outputs": [],
   "source": []
  }
 ],
 "metadata": {
  "kernelspec": {
   "display_name": "Python 3.8.13 64-bit ('fpl')",
   "language": "python",
   "name": "python3"
  },
  "language_info": {
   "codemirror_mode": {
    "name": "ipython",
    "version": 3
   },
   "file_extension": ".py",
   "mimetype": "text/x-python",
   "name": "python",
   "nbconvert_exporter": "python",
   "pygments_lexer": "ipython3",
   "version": "3.8.13"
  },
  "orig_nbformat": 4,
  "vscode": {
   "interpreter": {
    "hash": "a260a15d553eaf52c460a4c1e5df4bd0d2447d544d06d7a8902318dbeae567f7"
   }
  }
 },
 "nbformat": 4,
 "nbformat_minor": 2
}
