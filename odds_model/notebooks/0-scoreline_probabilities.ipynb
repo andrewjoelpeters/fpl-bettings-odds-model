{
 "cells": [
  {
   "cell_type": "code",
   "execution_count": 37,
   "metadata": {},
   "outputs": [],
   "source": [
    "import requests\n",
    "import os\n",
    "from bs4 import BeautifulSoup\n",
    "import pandas as pd\n",
    "from selenium import webdriver\n",
    "from selenium.webdriver.common.by import By\n",
    "import time\n",
    "from datetime import date\n",
    "import pickle"
   ]
  },
  {
   "cell_type": "markdown",
   "metadata": {},
   "source": [
    "# BS4 Match Odds"
   ]
  },
  {
   "cell_type": "code",
   "execution_count": 38,
   "metadata": {},
   "outputs": [],
   "source": [
    "url = 'https://www.bettingodds.com/football/premier-league'\n",
    "page = requests.get(url)\n",
    "soup = BeautifulSoup(page.content, 'html.parser')\n",
    "match_slugs = [a['href']  for a in soup.find_all('a', class_='oddsstats', href=True)]"
   ]
  },
  {
   "cell_type": "markdown",
   "metadata": {},
   "source": [
    "# Selenium More Detailed Odds"
   ]
  },
  {
   "cell_type": "code",
   "execution_count": 39,
   "metadata": {},
   "outputs": [
    {
     "name": "stderr",
     "output_type": "stream",
     "text": [
      "/var/folders/2r/ws5w94055xdfk6l_4nmkx4g40000gq/T/ipykernel_87685/3545715976.py:1: DeprecationWarning: executable_path has been deprecated, please pass in a Service object\n",
      "  driver = webdriver.Chrome('/usr/local/bin/chromedriver')\n"
     ]
    }
   ],
   "source": [
    "driver = webdriver.Chrome('/usr/local/bin/chromedriver')"
   ]
  },
  {
   "cell_type": "code",
   "execution_count": 40,
   "metadata": {},
   "outputs": [],
   "source": [
    "def close_popup_if_exists():\n",
    "    try: \n",
    "        driver.find_element('class name', 'close-modal').click()\n",
    "    except: \n",
    "        pass"
   ]
  },
  {
   "cell_type": "code",
   "execution_count": 41,
   "metadata": {},
   "outputs": [],
   "source": [
    "def get_scoreline_odds(match_slug):\n",
    "    '''Takes match_slug of the format /football/aston-villa-everton\n",
    "    and returns dataframe of probabilities of the scoreline\n",
    "    '''\n",
    "    \n",
    "    match_url = 'https://www.bettingodds.com' + match_slug\n",
    "    driver.get(match_url)\n",
    "    driver.execute_script(\"document.body.style_zoom='30%'\")\n",
    "    \n",
    "    # Let page fully load\n",
    "    time.sleep(.25)\n",
    "    # Close Pop-up if Exists and Navigate to Correct Table\n",
    "    close_popup_if_exists()\n",
    "    time.sleep(2.5)\n",
    "    \n",
    "    # Get Names of Teams Playing Match and Position of Each Table on Page.\n",
    "    team_names = [t.text for t in driver.find_elements('class name', 'team-name')]\n",
    "    match_date = driver.find_element('class name', 'match-date').text\n",
    "    print(f'{team_names}: {match_date}')\n",
    "    tables_names = {tn.text: idx for idx, tn in enumerate(driver.find_elements('class name', 'mtb-header'))}\n",
    "    score_idx = tables_names['Correct Score']\n",
    "    \n",
    "    # Click on the dropdown to expand the correct score block, and load the score data elements\n",
    "    driver.execute_script(\"arguments[0].scrollIntoView();\", driver.find_elements('class name', 'mtb-header')[score_idx])\n",
    "    driver.find_elements('class name', 'mtb-header')[score_idx].click()\n",
    "    score_data = driver.find_elements('class name', 'mtb-content')[score_idx]\n",
    "    print('** found score data')\n",
    "    \n",
    "    # Scroll to the \"view more\" button and click it, so all data is available\n",
    "    driver.execute_script(\"arguments[0].scrollIntoView();\", score_data.find_element('class name', 'ot-view-more'))\n",
    "    score_data.find_element('class name', 'ot-view-more').click()\n",
    "    \n",
    "    # Loop through each row of scoreline data to build table.\n",
    "    print('** collecting score data')\n",
    "    home_score = []\n",
    "    away_score = []\n",
    "    odds = []\n",
    "    for row in score_data.find_elements('class name', 'results-row'):\n",
    "        odds_grid = row.find_element('class name', 'grid-odds-list').find_elements('tag name', 'li')\n",
    "        for odds_val in odds_grid:\n",
    "            if odds_val.get_attribute('data-runner'):\n",
    "                scoreline = odds_val.get_attribute('data-runner').split('-')\n",
    "                home_score.append(scoreline[0])\n",
    "                away_score.append(scoreline[1])\n",
    "                odds.append(odds_val.get_attribute('data-decimal'))\n",
    "                \n",
    "    # Make Dataframe with Resulting Data\n",
    "    print('** compiling score data')\n",
    "    df = pd.DataFrame(zip(home_score, away_score, odds), columns=['home_score', 'away_score', 'odds'], dtype='float')\n",
    "    df['home_team'] = team_names[0]\n",
    "    df['away_team'] = team_names[1]\n",
    "    df['match_date'] = match_date\n",
    "    \n",
    "    #odds of 0 don't make sense, remove\n",
    "    df = df[df.odds > 0]\n",
    "    \n",
    "    df = (df\n",
    "      .groupby(['home_team', 'away_team', 'match_date', 'home_score', 'away_score'])['odds']\n",
    "      .mean()\n",
    "      .reset_index()\n",
    "    )\n",
    "    \n",
    "    print('** done')\n",
    "    return df"
   ]
  },
  {
   "cell_type": "code",
   "execution_count": 42,
   "metadata": {},
   "outputs": [
    {
     "name": "stdout",
     "output_type": "stream",
     "text": [
      "Working on /football/man-utd-southampton\n",
      "['Southampton', 'Man Utd']: Sat 27 Aug\n",
      "** found score data\n",
      "** collecting score data\n",
      "** compiling score data\n",
      "** done\n",
      "Working on /football/brentford-everton\n",
      "['Brentford', 'Everton']: Sat 27 Aug\n",
      "** found score data\n",
      "** collecting score data\n",
      "** compiling score data\n",
      "** done\n",
      "Working on /football/brighton-leeds\n",
      "['Brighton', 'Leeds']: Sat 27 Aug\n",
      "** found score data\n",
      "** collecting score data\n",
      "** compiling score data\n",
      "** done\n",
      "Working on /football/leicester-chelsea\n",
      "['Chelsea', 'Leicester']: Sat 27 Aug\n",
      "** found score data\n",
      "** collecting score data\n",
      "** compiling score data\n",
      "** done\n",
      "Working on /football/liverpool-bournemouth\n",
      "['Liverpool', 'Bournemouth']: Sat 27 Aug\n",
      "** found score data\n",
      "** collecting score data\n",
      "** compiling score data\n",
      "** done\n",
      "Working on /football/man-city-crystal-palace\n",
      "['Man City', 'Crystal Palace']: Sat 27 Aug\n",
      "** found score data\n",
      "** collecting score data\n",
      "** compiling score data\n",
      "** done\n",
      "Working on /football/arsenal-fulham\n",
      "['Arsenal', 'Fulham']: Sat 27 Aug\n",
      "** found score data\n",
      "** collecting score data\n",
      "** compiling score data\n",
      "** done\n",
      "Working on /football/aston-villa-west-ham\n",
      "['Aston Villa', 'West Ham']: Sun 28 Aug\n",
      "** found score data\n",
      "** collecting score data\n",
      "** compiling score data\n",
      "** done\n",
      "Working on /football/wolves-newcastle\n",
      "['Wolves', 'Newcastle']: Sun 28 Aug\n",
      "** found score data\n",
      "** collecting score data\n",
      "** compiling score data\n",
      "** done\n",
      "Working on /football/nottingham-forest-tottenham\n",
      "['Nottm Forest', 'Tottenham']: Sun 28 Aug\n",
      "** found score data\n",
      "** collecting score data\n",
      "** compiling score data\n",
      "** done\n",
      "Working on /football/crystal-palace-brentford\n",
      "['Crystal Palace', 'Brentford']: Tue 30 Aug\n",
      "** found score data\n",
      "** collecting score data\n",
      "** compiling score data\n",
      "** done\n",
      "Working on /football/fulham-brighton\n",
      "['Fulham', 'Brighton']: Tue 30 Aug\n",
      "** found score data\n",
      "** collecting score data\n",
      "** compiling score data\n",
      "** done\n",
      "Working on /football/chelsea-southampton\n",
      "['Southampton', 'Chelsea']: Tue 30 Aug\n",
      "** found score data\n",
      "** collecting score data\n",
      "** compiling score data\n",
      "** done\n",
      "Working on /football/leeds-everton\n",
      "['Leeds', 'Everton']: Tue 30 Aug\n",
      "** found score data\n",
      "** collecting score data\n",
      "** compiling score data\n",
      "** done\n",
      "Working on /football/bournemouth-wolves\n"
     ]
    },
    {
     "ename": "KeyboardInterrupt",
     "evalue": "",
     "output_type": "error",
     "traceback": [
      "\u001b[0;31m---------------------------------------------------------------------------\u001b[0m",
      "\u001b[0;31mKeyboardInterrupt\u001b[0m                         Traceback (most recent call last)",
      "\u001b[1;32m/Users/andrew.peters/Documents/fpl/odds-model/notebooks/0-scoreline_probabilities.ipynb Cell 8\u001b[0m in \u001b[0;36m<cell line: 3>\u001b[0;34m()\u001b[0m\n\u001b[1;32m      <a href='vscode-notebook-cell:/Users/andrew.peters/Documents/fpl/odds-model/notebooks/0-scoreline_probabilities.ipynb#X10sZmlsZQ%3D%3D?line=2'>3</a>\u001b[0m \u001b[39mfor\u001b[39;00m slug \u001b[39min\u001b[39;00m match_slugs:\n\u001b[1;32m      <a href='vscode-notebook-cell:/Users/andrew.peters/Documents/fpl/odds-model/notebooks/0-scoreline_probabilities.ipynb#X10sZmlsZQ%3D%3D?line=3'>4</a>\u001b[0m     \u001b[39mprint\u001b[39m(\u001b[39mf\u001b[39m\u001b[39m'\u001b[39m\u001b[39mWorking on \u001b[39m\u001b[39m{\u001b[39;00mslug\u001b[39m}\u001b[39;00m\u001b[39m'\u001b[39m)\n\u001b[0;32m----> <a href='vscode-notebook-cell:/Users/andrew.peters/Documents/fpl/odds-model/notebooks/0-scoreline_probabilities.ipynb#X10sZmlsZQ%3D%3D?line=4'>5</a>\u001b[0m     game_df \u001b[39m=\u001b[39m get_scoreline_odds(slug)\n\u001b[1;32m      <a href='vscode-notebook-cell:/Users/andrew.peters/Documents/fpl/odds-model/notebooks/0-scoreline_probabilities.ipynb#X10sZmlsZQ%3D%3D?line=5'>6</a>\u001b[0m     scraped_scorelines \u001b[39m=\u001b[39m pd\u001b[39m.\u001b[39mconcat([scraped_scorelines, game_df])\n",
      "\u001b[1;32m/Users/andrew.peters/Documents/fpl/odds-model/notebooks/0-scoreline_probabilities.ipynb Cell 8\u001b[0m in \u001b[0;36mget_scoreline_odds\u001b[0;34m(match_slug)\u001b[0m\n\u001b[1;32m      <a href='vscode-notebook-cell:/Users/andrew.peters/Documents/fpl/odds-model/notebooks/0-scoreline_probabilities.ipynb#X10sZmlsZQ%3D%3D?line=1'>2</a>\u001b[0m \u001b[39m'''Takes match_slug of the format /football/aston-villa-everton\u001b[39;00m\n\u001b[1;32m      <a href='vscode-notebook-cell:/Users/andrew.peters/Documents/fpl/odds-model/notebooks/0-scoreline_probabilities.ipynb#X10sZmlsZQ%3D%3D?line=2'>3</a>\u001b[0m \u001b[39mand returns dataframe of probabilities of the scoreline\u001b[39;00m\n\u001b[1;32m      <a href='vscode-notebook-cell:/Users/andrew.peters/Documents/fpl/odds-model/notebooks/0-scoreline_probabilities.ipynb#X10sZmlsZQ%3D%3D?line=3'>4</a>\u001b[0m \u001b[39m'''\u001b[39;00m\n\u001b[1;32m      <a href='vscode-notebook-cell:/Users/andrew.peters/Documents/fpl/odds-model/notebooks/0-scoreline_probabilities.ipynb#X10sZmlsZQ%3D%3D?line=5'>6</a>\u001b[0m match_url \u001b[39m=\u001b[39m \u001b[39m'\u001b[39m\u001b[39mhttps://www.bettingodds.com\u001b[39m\u001b[39m'\u001b[39m \u001b[39m+\u001b[39m match_slug\n\u001b[0;32m----> <a href='vscode-notebook-cell:/Users/andrew.peters/Documents/fpl/odds-model/notebooks/0-scoreline_probabilities.ipynb#X10sZmlsZQ%3D%3D?line=6'>7</a>\u001b[0m driver\u001b[39m.\u001b[39;49mget(match_url)\n\u001b[1;32m      <a href='vscode-notebook-cell:/Users/andrew.peters/Documents/fpl/odds-model/notebooks/0-scoreline_probabilities.ipynb#X10sZmlsZQ%3D%3D?line=7'>8</a>\u001b[0m driver\u001b[39m.\u001b[39mexecute_script(\u001b[39m\"\u001b[39m\u001b[39mdocument.body.style_zoom=\u001b[39m\u001b[39m'\u001b[39m\u001b[39m30\u001b[39m\u001b[39m%\u001b[39m\u001b[39m'\u001b[39m\u001b[39m\"\u001b[39m)\n\u001b[1;32m     <a href='vscode-notebook-cell:/Users/andrew.peters/Documents/fpl/odds-model/notebooks/0-scoreline_probabilities.ipynb#X10sZmlsZQ%3D%3D?line=9'>10</a>\u001b[0m \u001b[39m# Let page fully load\u001b[39;00m\n",
      "File \u001b[0;32m~/.pyenv/versions/3.8.13/envs/fpl/lib/python3.8/site-packages/selenium/webdriver/remote/webdriver.py:447\u001b[0m, in \u001b[0;36mWebDriver.get\u001b[0;34m(self, url)\u001b[0m\n\u001b[1;32m    443\u001b[0m \u001b[39mdef\u001b[39;00m \u001b[39mget\u001b[39m(\u001b[39mself\u001b[39m, url: \u001b[39mstr\u001b[39m) \u001b[39m-\u001b[39m\u001b[39m>\u001b[39m \u001b[39mNone\u001b[39;00m:\n\u001b[1;32m    444\u001b[0m     \u001b[39m\"\"\"\u001b[39;00m\n\u001b[1;32m    445\u001b[0m \u001b[39m    Loads a web page in the current browser session.\u001b[39;00m\n\u001b[1;32m    446\u001b[0m \u001b[39m    \"\"\"\u001b[39;00m\n\u001b[0;32m--> 447\u001b[0m     \u001b[39mself\u001b[39;49m\u001b[39m.\u001b[39;49mexecute(Command\u001b[39m.\u001b[39;49mGET, {\u001b[39m'\u001b[39;49m\u001b[39murl\u001b[39;49m\u001b[39m'\u001b[39;49m: url})\n",
      "File \u001b[0;32m~/.pyenv/versions/3.8.13/envs/fpl/lib/python3.8/site-packages/selenium/webdriver/remote/webdriver.py:433\u001b[0m, in \u001b[0;36mWebDriver.execute\u001b[0;34m(self, driver_command, params)\u001b[0m\n\u001b[1;32m    430\u001b[0m         params[\u001b[39m'\u001b[39m\u001b[39msessionId\u001b[39m\u001b[39m'\u001b[39m] \u001b[39m=\u001b[39m \u001b[39mself\u001b[39m\u001b[39m.\u001b[39msession_id\n\u001b[1;32m    432\u001b[0m params \u001b[39m=\u001b[39m \u001b[39mself\u001b[39m\u001b[39m.\u001b[39m_wrap_value(params)\n\u001b[0;32m--> 433\u001b[0m response \u001b[39m=\u001b[39m \u001b[39mself\u001b[39;49m\u001b[39m.\u001b[39;49mcommand_executor\u001b[39m.\u001b[39;49mexecute(driver_command, params)\n\u001b[1;32m    434\u001b[0m \u001b[39mif\u001b[39;00m response:\n\u001b[1;32m    435\u001b[0m     \u001b[39mself\u001b[39m\u001b[39m.\u001b[39merror_handler\u001b[39m.\u001b[39mcheck_response(response)\n",
      "File \u001b[0;32m~/.pyenv/versions/3.8.13/envs/fpl/lib/python3.8/site-packages/selenium/webdriver/remote/remote_connection.py:344\u001b[0m, in \u001b[0;36mRemoteConnection.execute\u001b[0;34m(self, command, params)\u001b[0m\n\u001b[1;32m    342\u001b[0m data \u001b[39m=\u001b[39m utils\u001b[39m.\u001b[39mdump_json(params)\n\u001b[1;32m    343\u001b[0m url \u001b[39m=\u001b[39m \u001b[39mf\u001b[39m\u001b[39m\"\u001b[39m\u001b[39m{\u001b[39;00m\u001b[39mself\u001b[39m\u001b[39m.\u001b[39m_url\u001b[39m}\u001b[39;00m\u001b[39m{\u001b[39;00mpath\u001b[39m}\u001b[39;00m\u001b[39m\"\u001b[39m\n\u001b[0;32m--> 344\u001b[0m \u001b[39mreturn\u001b[39;00m \u001b[39mself\u001b[39;49m\u001b[39m.\u001b[39;49m_request(command_info[\u001b[39m0\u001b[39;49m], url, body\u001b[39m=\u001b[39;49mdata)\n",
      "File \u001b[0;32m~/.pyenv/versions/3.8.13/envs/fpl/lib/python3.8/site-packages/selenium/webdriver/remote/remote_connection.py:366\u001b[0m, in \u001b[0;36mRemoteConnection._request\u001b[0;34m(self, method, url, body)\u001b[0m\n\u001b[1;32m    363\u001b[0m     body \u001b[39m=\u001b[39m \u001b[39mNone\u001b[39;00m\n\u001b[1;32m    365\u001b[0m \u001b[39mif\u001b[39;00m \u001b[39mself\u001b[39m\u001b[39m.\u001b[39mkeep_alive:\n\u001b[0;32m--> 366\u001b[0m     response \u001b[39m=\u001b[39m \u001b[39mself\u001b[39;49m\u001b[39m.\u001b[39;49m_conn\u001b[39m.\u001b[39;49mrequest(method, url, body\u001b[39m=\u001b[39;49mbody, headers\u001b[39m=\u001b[39;49mheaders)\n\u001b[1;32m    367\u001b[0m     statuscode \u001b[39m=\u001b[39m response\u001b[39m.\u001b[39mstatus\n\u001b[1;32m    368\u001b[0m \u001b[39melse\u001b[39;00m:\n",
      "File \u001b[0;32m~/.pyenv/versions/3.8.13/envs/fpl/lib/python3.8/site-packages/urllib3/request.py:78\u001b[0m, in \u001b[0;36mRequestMethods.request\u001b[0;34m(self, method, url, fields, headers, **urlopen_kw)\u001b[0m\n\u001b[1;32m     74\u001b[0m     \u001b[39mreturn\u001b[39;00m \u001b[39mself\u001b[39m\u001b[39m.\u001b[39mrequest_encode_url(\n\u001b[1;32m     75\u001b[0m         method, url, fields\u001b[39m=\u001b[39mfields, headers\u001b[39m=\u001b[39mheaders, \u001b[39m*\u001b[39m\u001b[39m*\u001b[39murlopen_kw\n\u001b[1;32m     76\u001b[0m     )\n\u001b[1;32m     77\u001b[0m \u001b[39melse\u001b[39;00m:\n\u001b[0;32m---> 78\u001b[0m     \u001b[39mreturn\u001b[39;00m \u001b[39mself\u001b[39;49m\u001b[39m.\u001b[39;49mrequest_encode_body(\n\u001b[1;32m     79\u001b[0m         method, url, fields\u001b[39m=\u001b[39;49mfields, headers\u001b[39m=\u001b[39;49mheaders, \u001b[39m*\u001b[39;49m\u001b[39m*\u001b[39;49murlopen_kw\n\u001b[1;32m     80\u001b[0m     )\n",
      "File \u001b[0;32m~/.pyenv/versions/3.8.13/envs/fpl/lib/python3.8/site-packages/urllib3/request.py:170\u001b[0m, in \u001b[0;36mRequestMethods.request_encode_body\u001b[0;34m(self, method, url, fields, headers, encode_multipart, multipart_boundary, **urlopen_kw)\u001b[0m\n\u001b[1;32m    167\u001b[0m extra_kw[\u001b[39m\"\u001b[39m\u001b[39mheaders\u001b[39m\u001b[39m\"\u001b[39m]\u001b[39m.\u001b[39mupdate(headers)\n\u001b[1;32m    168\u001b[0m extra_kw\u001b[39m.\u001b[39mupdate(urlopen_kw)\n\u001b[0;32m--> 170\u001b[0m \u001b[39mreturn\u001b[39;00m \u001b[39mself\u001b[39;49m\u001b[39m.\u001b[39;49murlopen(method, url, \u001b[39m*\u001b[39;49m\u001b[39m*\u001b[39;49mextra_kw)\n",
      "File \u001b[0;32m~/.pyenv/versions/3.8.13/envs/fpl/lib/python3.8/site-packages/urllib3/poolmanager.py:376\u001b[0m, in \u001b[0;36mPoolManager.urlopen\u001b[0;34m(self, method, url, redirect, **kw)\u001b[0m\n\u001b[1;32m    374\u001b[0m     response \u001b[39m=\u001b[39m conn\u001b[39m.\u001b[39murlopen(method, url, \u001b[39m*\u001b[39m\u001b[39m*\u001b[39mkw)\n\u001b[1;32m    375\u001b[0m \u001b[39melse\u001b[39;00m:\n\u001b[0;32m--> 376\u001b[0m     response \u001b[39m=\u001b[39m conn\u001b[39m.\u001b[39;49murlopen(method, u\u001b[39m.\u001b[39;49mrequest_uri, \u001b[39m*\u001b[39;49m\u001b[39m*\u001b[39;49mkw)\n\u001b[1;32m    378\u001b[0m redirect_location \u001b[39m=\u001b[39m redirect \u001b[39mand\u001b[39;00m response\u001b[39m.\u001b[39mget_redirect_location()\n\u001b[1;32m    379\u001b[0m \u001b[39mif\u001b[39;00m \u001b[39mnot\u001b[39;00m redirect_location:\n",
      "File \u001b[0;32m~/.pyenv/versions/3.8.13/envs/fpl/lib/python3.8/site-packages/urllib3/connectionpool.py:703\u001b[0m, in \u001b[0;36mHTTPConnectionPool.urlopen\u001b[0;34m(self, method, url, body, headers, retries, redirect, assert_same_host, timeout, pool_timeout, release_conn, chunked, body_pos, **response_kw)\u001b[0m\n\u001b[1;32m    700\u001b[0m     \u001b[39mself\u001b[39m\u001b[39m.\u001b[39m_prepare_proxy(conn)\n\u001b[1;32m    702\u001b[0m \u001b[39m# Make the request on the httplib connection object.\u001b[39;00m\n\u001b[0;32m--> 703\u001b[0m httplib_response \u001b[39m=\u001b[39m \u001b[39mself\u001b[39;49m\u001b[39m.\u001b[39;49m_make_request(\n\u001b[1;32m    704\u001b[0m     conn,\n\u001b[1;32m    705\u001b[0m     method,\n\u001b[1;32m    706\u001b[0m     url,\n\u001b[1;32m    707\u001b[0m     timeout\u001b[39m=\u001b[39;49mtimeout_obj,\n\u001b[1;32m    708\u001b[0m     body\u001b[39m=\u001b[39;49mbody,\n\u001b[1;32m    709\u001b[0m     headers\u001b[39m=\u001b[39;49mheaders,\n\u001b[1;32m    710\u001b[0m     chunked\u001b[39m=\u001b[39;49mchunked,\n\u001b[1;32m    711\u001b[0m )\n\u001b[1;32m    713\u001b[0m \u001b[39m# If we're going to release the connection in ``finally:``, then\u001b[39;00m\n\u001b[1;32m    714\u001b[0m \u001b[39m# the response doesn't need to know about the connection. Otherwise\u001b[39;00m\n\u001b[1;32m    715\u001b[0m \u001b[39m# it will also try to release it and we'll have a double-release\u001b[39;00m\n\u001b[1;32m    716\u001b[0m \u001b[39m# mess.\u001b[39;00m\n\u001b[1;32m    717\u001b[0m response_conn \u001b[39m=\u001b[39m conn \u001b[39mif\u001b[39;00m \u001b[39mnot\u001b[39;00m release_conn \u001b[39melse\u001b[39;00m \u001b[39mNone\u001b[39;00m\n",
      "File \u001b[0;32m~/.pyenv/versions/3.8.13/envs/fpl/lib/python3.8/site-packages/urllib3/connectionpool.py:449\u001b[0m, in \u001b[0;36mHTTPConnectionPool._make_request\u001b[0;34m(self, conn, method, url, timeout, chunked, **httplib_request_kw)\u001b[0m\n\u001b[1;32m    444\u001b[0m             httplib_response \u001b[39m=\u001b[39m conn\u001b[39m.\u001b[39mgetresponse()\n\u001b[1;32m    445\u001b[0m         \u001b[39mexcept\u001b[39;00m \u001b[39mBaseException\u001b[39;00m \u001b[39mas\u001b[39;00m e:\n\u001b[1;32m    446\u001b[0m             \u001b[39m# Remove the TypeError from the exception chain in\u001b[39;00m\n\u001b[1;32m    447\u001b[0m             \u001b[39m# Python 3 (including for exceptions like SystemExit).\u001b[39;00m\n\u001b[1;32m    448\u001b[0m             \u001b[39m# Otherwise it looks like a bug in the code.\u001b[39;00m\n\u001b[0;32m--> 449\u001b[0m             six\u001b[39m.\u001b[39;49mraise_from(e, \u001b[39mNone\u001b[39;49;00m)\n\u001b[1;32m    450\u001b[0m \u001b[39mexcept\u001b[39;00m (SocketTimeout, BaseSSLError, SocketError) \u001b[39mas\u001b[39;00m e:\n\u001b[1;32m    451\u001b[0m     \u001b[39mself\u001b[39m\u001b[39m.\u001b[39m_raise_timeout(err\u001b[39m=\u001b[39me, url\u001b[39m=\u001b[39murl, timeout_value\u001b[39m=\u001b[39mread_timeout)\n",
      "File \u001b[0;32m<string>:3\u001b[0m, in \u001b[0;36mraise_from\u001b[0;34m(value, from_value)\u001b[0m\n",
      "File \u001b[0;32m~/.pyenv/versions/3.8.13/envs/fpl/lib/python3.8/site-packages/urllib3/connectionpool.py:444\u001b[0m, in \u001b[0;36mHTTPConnectionPool._make_request\u001b[0;34m(self, conn, method, url, timeout, chunked, **httplib_request_kw)\u001b[0m\n\u001b[1;32m    441\u001b[0m \u001b[39mexcept\u001b[39;00m \u001b[39mTypeError\u001b[39;00m:\n\u001b[1;32m    442\u001b[0m     \u001b[39m# Python 3\u001b[39;00m\n\u001b[1;32m    443\u001b[0m     \u001b[39mtry\u001b[39;00m:\n\u001b[0;32m--> 444\u001b[0m         httplib_response \u001b[39m=\u001b[39m conn\u001b[39m.\u001b[39;49mgetresponse()\n\u001b[1;32m    445\u001b[0m     \u001b[39mexcept\u001b[39;00m \u001b[39mBaseException\u001b[39;00m \u001b[39mas\u001b[39;00m e:\n\u001b[1;32m    446\u001b[0m         \u001b[39m# Remove the TypeError from the exception chain in\u001b[39;00m\n\u001b[1;32m    447\u001b[0m         \u001b[39m# Python 3 (including for exceptions like SystemExit).\u001b[39;00m\n\u001b[1;32m    448\u001b[0m         \u001b[39m# Otherwise it looks like a bug in the code.\u001b[39;00m\n\u001b[1;32m    449\u001b[0m         six\u001b[39m.\u001b[39mraise_from(e, \u001b[39mNone\u001b[39;00m)\n",
      "File \u001b[0;32m~/.pyenv/versions/3.8.13/lib/python3.8/http/client.py:1348\u001b[0m, in \u001b[0;36mHTTPConnection.getresponse\u001b[0;34m(self)\u001b[0m\n\u001b[1;32m   1346\u001b[0m \u001b[39mtry\u001b[39;00m:\n\u001b[1;32m   1347\u001b[0m     \u001b[39mtry\u001b[39;00m:\n\u001b[0;32m-> 1348\u001b[0m         response\u001b[39m.\u001b[39;49mbegin()\n\u001b[1;32m   1349\u001b[0m     \u001b[39mexcept\u001b[39;00m \u001b[39mConnectionError\u001b[39;00m:\n\u001b[1;32m   1350\u001b[0m         \u001b[39mself\u001b[39m\u001b[39m.\u001b[39mclose()\n",
      "File \u001b[0;32m~/.pyenv/versions/3.8.13/lib/python3.8/http/client.py:316\u001b[0m, in \u001b[0;36mHTTPResponse.begin\u001b[0;34m(self)\u001b[0m\n\u001b[1;32m    314\u001b[0m \u001b[39m# read until we get a non-100 response\u001b[39;00m\n\u001b[1;32m    315\u001b[0m \u001b[39mwhile\u001b[39;00m \u001b[39mTrue\u001b[39;00m:\n\u001b[0;32m--> 316\u001b[0m     version, status, reason \u001b[39m=\u001b[39m \u001b[39mself\u001b[39;49m\u001b[39m.\u001b[39;49m_read_status()\n\u001b[1;32m    317\u001b[0m     \u001b[39mif\u001b[39;00m status \u001b[39m!=\u001b[39m CONTINUE:\n\u001b[1;32m    318\u001b[0m         \u001b[39mbreak\u001b[39;00m\n",
      "File \u001b[0;32m~/.pyenv/versions/3.8.13/lib/python3.8/http/client.py:277\u001b[0m, in \u001b[0;36mHTTPResponse._read_status\u001b[0;34m(self)\u001b[0m\n\u001b[1;32m    276\u001b[0m \u001b[39mdef\u001b[39;00m \u001b[39m_read_status\u001b[39m(\u001b[39mself\u001b[39m):\n\u001b[0;32m--> 277\u001b[0m     line \u001b[39m=\u001b[39m \u001b[39mstr\u001b[39m(\u001b[39mself\u001b[39;49m\u001b[39m.\u001b[39;49mfp\u001b[39m.\u001b[39;49mreadline(_MAXLINE \u001b[39m+\u001b[39;49m \u001b[39m1\u001b[39;49m), \u001b[39m\"\u001b[39m\u001b[39miso-8859-1\u001b[39m\u001b[39m\"\u001b[39m)\n\u001b[1;32m    278\u001b[0m     \u001b[39mif\u001b[39;00m \u001b[39mlen\u001b[39m(line) \u001b[39m>\u001b[39m _MAXLINE:\n\u001b[1;32m    279\u001b[0m         \u001b[39mraise\u001b[39;00m LineTooLong(\u001b[39m\"\u001b[39m\u001b[39mstatus line\u001b[39m\u001b[39m\"\u001b[39m)\n",
      "File \u001b[0;32m~/.pyenv/versions/3.8.13/lib/python3.8/socket.py:669\u001b[0m, in \u001b[0;36mSocketIO.readinto\u001b[0;34m(self, b)\u001b[0m\n\u001b[1;32m    667\u001b[0m \u001b[39mwhile\u001b[39;00m \u001b[39mTrue\u001b[39;00m:\n\u001b[1;32m    668\u001b[0m     \u001b[39mtry\u001b[39;00m:\n\u001b[0;32m--> 669\u001b[0m         \u001b[39mreturn\u001b[39;00m \u001b[39mself\u001b[39;49m\u001b[39m.\u001b[39;49m_sock\u001b[39m.\u001b[39;49mrecv_into(b)\n\u001b[1;32m    670\u001b[0m     \u001b[39mexcept\u001b[39;00m timeout:\n\u001b[1;32m    671\u001b[0m         \u001b[39mself\u001b[39m\u001b[39m.\u001b[39m_timeout_occurred \u001b[39m=\u001b[39m \u001b[39mTrue\u001b[39;00m\n",
      "\u001b[0;31mKeyboardInterrupt\u001b[0m: "
     ]
    }
   ],
   "source": [
    "scraped_scorelines = pd.DataFrame()\n",
    "\n",
    "for slug in match_slugs:\n",
    "    print(f'Working on {slug}')\n",
    "    game_df = get_scoreline_odds(slug)\n",
    "    scraped_scorelines = pd.concat([scraped_scorelines, game_df])"
   ]
  },
  {
   "cell_type": "code",
   "execution_count": 43,
   "metadata": {},
   "outputs": [
    {
     "data": {
      "text/html": [
       "<div>\n",
       "<style scoped>\n",
       "    .dataframe tbody tr th:only-of-type {\n",
       "        vertical-align: middle;\n",
       "    }\n",
       "\n",
       "    .dataframe tbody tr th {\n",
       "        vertical-align: top;\n",
       "    }\n",
       "\n",
       "    .dataframe thead th {\n",
       "        text-align: right;\n",
       "    }\n",
       "</style>\n",
       "<table border=\"1\" class=\"dataframe\">\n",
       "  <thead>\n",
       "    <tr style=\"text-align: right;\">\n",
       "      <th></th>\n",
       "      <th>home_team</th>\n",
       "      <th>away_team</th>\n",
       "      <th>match_date</th>\n",
       "      <th>home_score</th>\n",
       "      <th>away_score</th>\n",
       "      <th>odds</th>\n",
       "    </tr>\n",
       "  </thead>\n",
       "  <tbody>\n",
       "    <tr>\n",
       "      <th>0</th>\n",
       "      <td>Southampton</td>\n",
       "      <td>Man Utd</td>\n",
       "      <td>Sat 27 Aug</td>\n",
       "      <td>0.0</td>\n",
       "      <td>0.0</td>\n",
       "      <td>15.500000</td>\n",
       "    </tr>\n",
       "    <tr>\n",
       "      <th>1</th>\n",
       "      <td>Southampton</td>\n",
       "      <td>Man Utd</td>\n",
       "      <td>Sat 27 Aug</td>\n",
       "      <td>0.0</td>\n",
       "      <td>1.0</td>\n",
       "      <td>9.611111</td>\n",
       "    </tr>\n",
       "    <tr>\n",
       "      <th>2</th>\n",
       "      <td>Southampton</td>\n",
       "      <td>Man Utd</td>\n",
       "      <td>Sat 27 Aug</td>\n",
       "      <td>0.0</td>\n",
       "      <td>2.0</td>\n",
       "      <td>10.277778</td>\n",
       "    </tr>\n",
       "    <tr>\n",
       "      <th>3</th>\n",
       "      <td>Southampton</td>\n",
       "      <td>Man Utd</td>\n",
       "      <td>Sat 27 Aug</td>\n",
       "      <td>0.0</td>\n",
       "      <td>3.0</td>\n",
       "      <td>15.500000</td>\n",
       "    </tr>\n",
       "    <tr>\n",
       "      <th>4</th>\n",
       "      <td>Southampton</td>\n",
       "      <td>Man Utd</td>\n",
       "      <td>Sat 27 Aug</td>\n",
       "      <td>0.0</td>\n",
       "      <td>4.0</td>\n",
       "      <td>28.375000</td>\n",
       "    </tr>\n",
       "  </tbody>\n",
       "</table>\n",
       "</div>"
      ],
      "text/plain": [
       "     home_team away_team  match_date  home_score  away_score       odds\n",
       "0  Southampton   Man Utd  Sat 27 Aug         0.0         0.0  15.500000\n",
       "1  Southampton   Man Utd  Sat 27 Aug         0.0         1.0   9.611111\n",
       "2  Southampton   Man Utd  Sat 27 Aug         0.0         2.0  10.277778\n",
       "3  Southampton   Man Utd  Sat 27 Aug         0.0         3.0  15.500000\n",
       "4  Southampton   Man Utd  Sat 27 Aug         0.0         4.0  28.375000"
      ]
     },
     "execution_count": 43,
     "metadata": {},
     "output_type": "execute_result"
    }
   ],
   "source": [
    "scraped_scorelines.head(5)"
   ]
  },
  {
   "cell_type": "code",
   "execution_count": 44,
   "metadata": {},
   "outputs": [],
   "source": [
    "scorelines_h = (scraped_scorelines[['home_team', 'home_score', 'away_score', 'match_date', 'odds']]\n",
    "                       .rename(columns={'home_team': 'team', 'away_team': 'opp_team',\n",
    "                                        'home_score': 'gf', 'away_score': 'ga'})\n",
    "                       )\n",
    "\n",
    "scorelines_a = (scraped_scorelines[['away_team', 'away_score', 'home_score', 'match_date', 'odds']]\n",
    "                       .rename(columns={'away_team': 'team', 'home_team': 'opp_team',\n",
    "                                        'away_score': 'gf', 'home_score': 'ga'})\n",
    "                       )\n"
   ]
  },
  {
   "cell_type": "code",
   "execution_count": 45,
   "metadata": {},
   "outputs": [],
   "source": [
    "scorelines_h['at_home'] = 1\n",
    "scorelines_a['at_home'] = 0\n",
    "\n",
    "all_scorelines = pd.concat([scorelines_h, scorelines_a])\n",
    "\n",
    "# convert goals for and against to int\n",
    "all_scorelines['gf'] = all_scorelines.gf.astype('int')\n",
    "all_scorelines['ga'] = all_scorelines.ga.astype('int')\n",
    "\n",
    "# Drop scorelines with over 5 goals\n",
    "all_scorelines = all_scorelines[(all_scorelines.gf <= 5) & (all_scorelines.ga <= 5)]\n",
    "\n",
    "# convert odds to implied probability\n",
    "all_scorelines['proba'] = 1 / all_scorelines.odds\n",
    "\n",
    "# Convert match_date column to datetime.\n",
    "all_scorelines['match_date'] = pd.to_datetime(all_scorelines.match_date + [' 2022'], format='%a %d %b %Y')\n",
    "\n",
    "# The bookies pad their odds, so the proabilities are over 100%. Readjust.\n",
    "all_scorelines.proba = all_scorelines.proba / all_scorelines.groupby('team')['proba'].transform(sum)"
   ]
  },
  {
   "cell_type": "code",
   "execution_count": 46,
   "metadata": {},
   "outputs": [
    {
     "name": "stdout",
     "output_type": "stream",
     "text": [
      "<class 'pandas.core.frame.DataFrame'>\n",
      "Int64Index: 1008 entries, 0 to 55\n",
      "Data columns (total 7 columns):\n",
      " #   Column      Non-Null Count  Dtype         \n",
      "---  ------      --------------  -----         \n",
      " 0   team        1008 non-null   object        \n",
      " 1   gf          1008 non-null   int64         \n",
      " 2   ga          1008 non-null   int64         \n",
      " 3   match_date  1008 non-null   datetime64[ns]\n",
      " 4   odds        1008 non-null   float64       \n",
      " 5   at_home     1008 non-null   int64         \n",
      " 6   proba       1008 non-null   float64       \n",
      "dtypes: datetime64[ns](1), float64(2), int64(3), object(1)\n",
      "memory usage: 63.0+ KB\n"
     ]
    }
   ],
   "source": [
    "all_scorelines.info()"
   ]
  },
  {
   "cell_type": "code",
   "execution_count": 47,
   "metadata": {},
   "outputs": [
    {
     "data": {
      "text/plain": [
       "array(['Southampton', 'Brentford', 'Brighton', 'Chelsea', 'Liverpool',\n",
       "       'Man City', 'Arsenal', 'Aston Villa', 'Wolves', 'Nottm Forest',\n",
       "       'Crystal Palace', 'Fulham', 'Leeds', 'Man Utd', 'Everton',\n",
       "       'Leicester', 'Bournemouth', 'West Ham', 'Newcastle', 'Tottenham'],\n",
       "      dtype=object)"
      ]
     },
     "execution_count": 47,
     "metadata": {},
     "output_type": "execute_result"
    }
   ],
   "source": [
    "all_scorelines.team.unique()"
   ]
  },
  {
   "cell_type": "code",
   "execution_count": 48,
   "metadata": {},
   "outputs": [],
   "source": [
    "all_scorelines.to_pickle('../data/scoreline_probabilities.pkl')"
   ]
  },
  {
   "cell_type": "code",
   "execution_count": 49,
   "metadata": {},
   "outputs": [],
   "source": [
    "date_path = date.today().strftime('%Y_%m_%d')\n",
    "path = f'../data/historical/{date_path}'\n",
    "\n",
    "if not os.path.exists(path):\n",
    "    os.makedirs(path)\n",
    "\n",
    "# save to historical folder as well\n",
    "all_scorelines.to_pickle(f'{path}/scoreline_probabilities.pkl')"
   ]
  }
 ],
 "metadata": {
  "kernelspec": {
   "display_name": "Python 3.8.13 64-bit ('fpl')",
   "language": "python",
   "name": "python3"
  },
  "language_info": {
   "codemirror_mode": {
    "name": "ipython",
    "version": 3
   },
   "file_extension": ".py",
   "mimetype": "text/x-python",
   "name": "python",
   "nbconvert_exporter": "python",
   "pygments_lexer": "ipython3",
   "version": "3.8.13"
  },
  "orig_nbformat": 4,
  "vscode": {
   "interpreter": {
    "hash": "a260a15d553eaf52c460a4c1e5df4bd0d2447d544d06d7a8902318dbeae567f7"
   }
  }
 },
 "nbformat": 4,
 "nbformat_minor": 2
}
