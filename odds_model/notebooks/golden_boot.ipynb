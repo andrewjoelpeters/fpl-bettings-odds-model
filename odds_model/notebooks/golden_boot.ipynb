{
 "cells": [
  {
   "cell_type": "code",
   "execution_count": 1,
   "metadata": {},
   "outputs": [],
   "source": [
    "import requests\n",
    "from bs4 import BeautifulSoup\n",
    "import pandas as pd\n",
    "from selenium import webdriver\n",
    "from selenium.webdriver.common.by import By"
   ]
  },
  {
   "cell_type": "code",
   "execution_count": 2,
   "metadata": {},
   "outputs": [
    {
     "name": "stderr",
     "output_type": "stream",
     "text": [
      "/var/folders/2r/ws5w94055xdfk6l_4nmkx4g40000gq/T/ipykernel_4500/3545715976.py:1: DeprecationWarning: executable_path has been deprecated, please pass in a Service object\n",
      "  driver = webdriver.Chrome('/usr/local/bin/chromedriver')\n"
     ]
    }
   ],
   "source": [
    "driver = webdriver.Chrome('/usr/local/bin/chromedriver')"
   ]
  },
  {
   "cell_type": "code",
   "execution_count": 3,
   "metadata": {},
   "outputs": [],
   "source": [
    "top_scorers_url = 'https://www.bettingodds.com/football/premier-league/top-scorer'\n",
    "driver.get(top_scorers_url)"
   ]
  },
  {
   "cell_type": "code",
   "execution_count": 5,
   "metadata": {},
   "outputs": [],
   "source": [
    "def close_popup_if_exists():\n",
    "    try: \n",
    "        driver.find_element('class name', 'close-modal').click()\n",
    "    except: \n",
    "        pass"
   ]
  },
  {
   "cell_type": "code",
   "execution_count": 7,
   "metadata": {},
   "outputs": [],
   "source": [
    "close_popup_if_exists()"
   ]
  },
  {
   "cell_type": "code",
   "execution_count": 8,
   "metadata": {},
   "outputs": [],
   "source": [
    "driver.execute_script(\"arguments[0].scrollIntoView();\", driver.find_element('class name', 'ot-view-more'))"
   ]
  },
  {
   "cell_type": "code",
   "execution_count": 9,
   "metadata": {},
   "outputs": [],
   "source": [
    "driver.find_element('class name', 'ot-view-more').click()"
   ]
  },
  {
   "cell_type": "code",
   "execution_count": 11,
   "metadata": {},
   "outputs": [],
   "source": [
    "players = []\n",
    "odds = []\n",
    "for row in driver.find_elements('class name', 'results-row'):\n",
    "    odds_grid = row.find_element('class name', 'grid-odds-list').find_elements('tag name', 'li')\n",
    "    for odds_val in odds_grid:\n",
    "        if odds_val.get_attribute('data-runner'):\n",
    "            players.append(odds_val.get_attribute('data-runner'))\n",
    "            odds.append(odds_val.get_attribute('data-decimal'))"
   ]
  },
  {
   "cell_type": "code",
   "execution_count": 19,
   "metadata": {},
   "outputs": [],
   "source": [
    "top_scorers = pd.DataFrame(zip(players, odds), columns=['player', 'odds'])\n",
    "top_scorers['odds'] = top_scorers['odds'].astype('float')"
   ]
  },
  {
   "cell_type": "code",
   "execution_count": 21,
   "metadata": {},
   "outputs": [],
   "source": [
    "top_scorers = (\n",
    "    top_scorers[top_scorers.player != 'Each Way Terms']\n",
    "        .groupby('player')['odds']\n",
    "        .mean()\n",
    "        .reset_index()\n",
    "        .sort_values('odds')\n",
    " )"
   ]
  },
  {
   "cell_type": "code",
   "execution_count": 22,
   "metadata": {},
   "outputs": [
    {
     "data": {
      "text/html": [
       "<div>\n",
       "<style scoped>\n",
       "    .dataframe tbody tr th:only-of-type {\n",
       "        vertical-align: middle;\n",
       "    }\n",
       "\n",
       "    .dataframe tbody tr th {\n",
       "        vertical-align: top;\n",
       "    }\n",
       "\n",
       "    .dataframe thead th {\n",
       "        text-align: right;\n",
       "    }\n",
       "</style>\n",
       "<table border=\"1\" class=\"dataframe\">\n",
       "  <thead>\n",
       "    <tr style=\"text-align: right;\">\n",
       "      <th></th>\n",
       "      <th>player</th>\n",
       "      <th>odds</th>\n",
       "    </tr>\n",
       "  </thead>\n",
       "  <tbody>\n",
       "    <tr>\n",
       "      <th>33</th>\n",
       "      <td>Erling Haaland</td>\n",
       "      <td>2.22125</td>\n",
       "    </tr>\n",
       "    <tr>\n",
       "      <th>65</th>\n",
       "      <td>Mohamed Salah</td>\n",
       "      <td>5.61250</td>\n",
       "    </tr>\n",
       "    <tr>\n",
       "      <th>38</th>\n",
       "      <td>Harry Kane</td>\n",
       "      <td>7.62500</td>\n",
       "    </tr>\n",
       "    <tr>\n",
       "      <th>23</th>\n",
       "      <td>Darwin Nunez</td>\n",
       "      <td>10.37500</td>\n",
       "    </tr>\n",
       "    <tr>\n",
       "      <th>3</th>\n",
       "      <td>Anthony Elanga</td>\n",
       "      <td>12.62500</td>\n",
       "    </tr>\n",
       "    <tr>\n",
       "      <th>...</th>\n",
       "      <td>...</td>\n",
       "      <td>...</td>\n",
       "    </tr>\n",
       "    <tr>\n",
       "      <th>17</th>\n",
       "      <td>Christian Eriksen</td>\n",
       "      <td>163.25000</td>\n",
       "    </tr>\n",
       "    <tr>\n",
       "      <th>39</th>\n",
       "      <td>Harvey Barnes</td>\n",
       "      <td>163.37500</td>\n",
       "    </tr>\n",
       "    <tr>\n",
       "      <th>30</th>\n",
       "      <td>Eberechi Eze</td>\n",
       "      <td>175.50000</td>\n",
       "    </tr>\n",
       "    <tr>\n",
       "      <th>20</th>\n",
       "      <td>Daniel Podence</td>\n",
       "      <td>185.25000</td>\n",
       "    </tr>\n",
       "    <tr>\n",
       "      <th>46</th>\n",
       "      <td>James Ward-Prowse</td>\n",
       "      <td>232.12500</td>\n",
       "    </tr>\n",
       "  </tbody>\n",
       "</table>\n",
       "<p>89 rows × 2 columns</p>\n",
       "</div>"
      ],
      "text/plain": [
       "               player       odds\n",
       "33     Erling Haaland    2.22125\n",
       "65      Mohamed Salah    5.61250\n",
       "38         Harry Kane    7.62500\n",
       "23       Darwin Nunez   10.37500\n",
       "3      Anthony Elanga   12.62500\n",
       "..                ...        ...\n",
       "17  Christian Eriksen  163.25000\n",
       "39      Harvey Barnes  163.37500\n",
       "30       Eberechi Eze  175.50000\n",
       "20     Daniel Podence  185.25000\n",
       "46  James Ward-Prowse  232.12500\n",
       "\n",
       "[89 rows x 2 columns]"
      ]
     },
     "execution_count": 22,
     "metadata": {},
     "output_type": "execute_result"
    }
   ],
   "source": [
    "top_scorers"
   ]
  },
  {
   "cell_type": "code",
   "execution_count": null,
   "metadata": {},
   "outputs": [],
   "source": []
  }
 ],
 "metadata": {
  "kernelspec": {
   "display_name": "Python 3.8.13 64-bit ('fpl')",
   "language": "python",
   "name": "python3"
  },
  "language_info": {
   "codemirror_mode": {
    "name": "ipython",
    "version": 3
   },
   "file_extension": ".py",
   "mimetype": "text/x-python",
   "name": "python",
   "nbconvert_exporter": "python",
   "pygments_lexer": "ipython3",
   "version": "3.8.13"
  },
  "orig_nbformat": 4,
  "vscode": {
   "interpreter": {
    "hash": "a260a15d553eaf52c460a4c1e5df4bd0d2447d544d06d7a8902318dbeae567f7"
   }
  }
 },
 "nbformat": 4,
 "nbformat_minor": 2
}
